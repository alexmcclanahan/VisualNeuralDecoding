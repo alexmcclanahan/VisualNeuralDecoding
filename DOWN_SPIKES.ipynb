{
 "cells": [
  {
   "cell_type": "code",
   "execution_count": 2,
   "metadata": {
    "collapsed": true,
    "pycharm": {
     "is_executing": false
    }
   },
   "outputs": [],
   "source": [
    "import os\n",
    "from allensdk.brain_observatory.ecephys.ecephys_session import EcephysSession\n",
    "from allensdk.brain_observatory.ecephys.ecephys_project_cache import EcephysProjectCache\n",
    "\n",
    "data_dir = '/Users/bioel/PycharmProjects/untitled4/ecephys_cache_dir'\n",
    "manifest_path = os.path.join(data_dir, 'manifest.json')\n",
    "cache = EcephysProjectCache.from_warehouse(manifest = manifest_path)"
   ]
  },
  {
   "cell_type": "code",
   "execution_count": 5,
   "outputs": [
    {
     "data": {
      "text/plain": "Int64Index([715093703, 719161530, 721123822, 732592105, 737581020, 739448407,\n            742951821, 743475441, 744228101, 746083955, 750332458, 750749662,\n            751348571, 754312389, 754829445, 755434585, 756029989, 757216464,\n            757970808, 758798717, 759883607, 760345702, 760693773, 761418226,\n            762120172, 762602078, 763673393, 773418906, 791319847, 797828357,\n            798911424, 799864342],\n           dtype='int64', name='id')"
     },
     "metadata": {},
     "output_type": "execute_result",
     "execution_count": 5
    }
   ],
   "source": [
    "import pandas as pd\n",
    "session_table = cache.get_session_table()\n",
    "sessions = session_table.loc[session_table.session_type == 'brain_observatory_1.1'].index\n",
    "sessions"
   ],
   "metadata": {
    "collapsed": false,
    "pycharm": {
     "name": "#%%\n",
     "is_executing": false
    }
   }
  },
  {
   "cell_type": "code",
   "execution_count": 9,
   "outputs": [
    {
     "traceback": [
      "\u001b[1;31m---------------------------------------------------------------------------\u001b[0m",
      "\u001b[1;31mTypeError\u001b[0m                                 Traceback (most recent call last)",
      "\u001b[1;32m<ipython-input-9-e8e0379b2215>\u001b[0m in \u001b[0;36m<module>\u001b[1;34m\u001b[0m\n\u001b[0;32m      1\u001b[0m \u001b[0monly_these\u001b[0m \u001b[1;33m=\u001b[0m \u001b[0msessions\u001b[0m\u001b[1;33m[\u001b[0m\u001b[1;33m-\u001b[0m\u001b[1;36m4\u001b[0m\u001b[1;33m]\u001b[0m\u001b[1;33m\u001b[0m\u001b[1;33m\u001b[0m\u001b[0m\n\u001b[1;32m----> 2\u001b[1;33m \u001b[1;32mfor\u001b[0m \u001b[0msession_id\u001b[0m \u001b[1;32min\u001b[0m \u001b[0mrange\u001b[0m\u001b[1;33m(\u001b[0m\u001b[0mlen\u001b[0m\u001b[1;33m(\u001b[0m\u001b[0monly_these\u001b[0m\u001b[1;33m)\u001b[0m\u001b[1;33m)\u001b[0m\u001b[1;33m:\u001b[0m\u001b[1;33m\u001b[0m\u001b[1;33m\u001b[0m\u001b[0m\n\u001b[0m\u001b[0;32m      3\u001b[0m     \u001b[0ms_id\u001b[0m \u001b[1;33m=\u001b[0m \u001b[0monly_these\u001b[0m\u001b[1;33m[\u001b[0m\u001b[0msession_id\u001b[0m\u001b[1;33m]\u001b[0m\u001b[1;33m\u001b[0m\u001b[1;33m\u001b[0m\u001b[0m\n\u001b[0;32m      4\u001b[0m     \u001b[0mcurrent_session\u001b[0m\u001b[1;33m=\u001b[0m\u001b[0mcache\u001b[0m\u001b[1;33m.\u001b[0m\u001b[0mget_session_data\u001b[0m\u001b[1;33m(\u001b[0m\u001b[0msession_id\u001b[0m\u001b[1;33m=\u001b[0m\u001b[0ms_id\u001b[0m\u001b[1;33m)\u001b[0m\u001b[1;33m\u001b[0m\u001b[1;33m\u001b[0m\u001b[0m\n\u001b[0;32m      5\u001b[0m     \u001b[0mprint\u001b[0m\u001b[1;33m(\u001b[0m\u001b[1;34m'Currently downloading session # '\u001b[0m \u001b[1;33m+\u001b[0m \u001b[0mstr\u001b[0m\u001b[1;33m(\u001b[0m\u001b[0ms_id\u001b[0m\u001b[1;33m)\u001b[0m\u001b[1;33m)\u001b[0m\u001b[1;33m\u001b[0m\u001b[1;33m\u001b[0m\u001b[0m\n",
      "\u001b[1;31mTypeError\u001b[0m: object of type 'numpy.int64' has no len()"
     ],
     "ename": "TypeError",
     "evalue": "object of type 'numpy.int64' has no len()",
     "output_type": "error"
    }
   ],
   "source": [
    "only_these = sessions[-4]\n",
    "for session_id in range(len(sessions)):\n",
    "    s_id = only_these[session_id]\n",
    "    current_session=cache.get_session_data(session_id=s_id)\n",
    "    print('Currently downloading session # ' + str(s_id))\n",
    "    continue"
   ],
   "metadata": {
    "collapsed": false,
    "pycharm": {
     "name": "#%%\n",
     "is_executing": false
    }
   }
  },
  {
   "cell_type": "code",
   "execution_count": 8,
   "outputs": [],
   "source": [
    "from allensdk.brain_observatory.ecephys.visualization import plot_mean_waveforms, plot_spike_counts, raster_plot\n",
    "session = cache.get_session_data(session_id=715093703)\n",
    "units_with_very_high_snr = session.units[session.units['snr'] > 2.0]\n",
    "high_snr_unit_ids = units_with_very_high_snr.index.values\n",
    "import matplotlib.pyplot as plt"
   ],
   "metadata": {
    "collapsed": false,
    "pycharm": {
     "name": "#%%\n",
     "is_executing": false
    }
   }
  },
  {
   "cell_type": "code",
   "execution_count": 9,
   "outputs": [
    {
     "name": "stderr",
     "text": [
      "c:\\users\\bioel\\anaconda3\\envs\\untitled4\\lib\\site-packages\\allensdk\\brain_observatory\\ecephys\\ecephys_session.py:1086: UserWarning: Session includes invalid time intervals that could be accessed with the attribute 'invalid_times',Spikes within these intervals are invalid and may need to be excluded from the analysis.\n",
      "  warnings.warn(\"Session includes invalid time intervals that could be accessed with the attribute 'invalid_times',\"\n"
     ],
     "output_type": "stream"
    },
    {
     "data": {
      "text/plain": "<Figure size 576x576 with 1 Axes>",
      "image/png": "[encoded data removed]"
     },
     "metadata": {
      "needs_background": "light"
     },
     "output_type": "display_data"
    },
    {
     "data": {
      "text/plain": "color                              null\ncontrast                           null\nframe                                 5\norientation                        null\nphase                              null\npos                                null\nsize                               null\nspatial_frequency                  null\nstart_time                      5892.42\nstimulus_block                        9\nstimulus_name            natural_scenes\nstop_time                       5892.67\ntemporal_frequency                 null\nx_position                         null\ny_position                         null\nduration                       0.250196\nstimulus_condition_id              4908\nName: 51353, dtype: object"
     },
     "metadata": {},
     "output_type": "execute_result",
     "execution_count": 9
    }
   ],
   "source": [
    "\n",
    "drifting_gratings_presentation_ids = session.stimulus_presentations.loc[\n",
    "    (session.stimulus_presentations['stimulus_name'] == 'natural_scenes')\n",
    "].index.values\n",
    "\n",
    "times = session.presentationwise_spike_times(\n",
    "    stimulus_presentation_ids=drifting_gratings_presentation_ids,\n",
    "    unit_ids=high_snr_unit_ids\n",
    ")\n",
    "\n",
    "first_drifting_grating_presentation_id = times['stimulus_presentation_id'].values[0]\n",
    "plot_times = times[times['stimulus_presentation_id'] == first_drifting_grating_presentation_id]\n",
    "\n",
    "fig = raster_plot(plot_times, title=f'spike raster for stimulus presentation {first_drifting_grating_presentation_id}')\n",
    "plt.show()\n",
    "\n",
    "# also print out this presentation\n",
    "session.stimulus_presentations.loc[first_drifting_grating_presentation_id]\n"
   ],
   "metadata": {
    "collapsed": false,
    "pycharm": {
     "name": "#%%\n",
     "is_executing": false
    }
   }
  }
 ],
 "metadata": {
  "kernelspec": {
   "display_name": "Python 3",
   "language": "python",
   "name": "python3"
  },
  "language_info": {
   "codemirror_mode": {
    "name": "ipython",
    "version": 2
   },
   "file_extension": ".py",
   "mimetype": "text/x-python",
   "name": "python",
   "nbconvert_exporter": "python",
   "pygments_lexer": "ipython2",
   "version": "2.7.6"
  },
  "pycharm": {
   "stem_cell": {
    "cell_type": "raw",
    "source": [],
    "metadata": {
     "collapsed": false
    }
   }
  }
 },
 "nbformat": 4,
 "nbformat_minor": 0
}