{
 "cells": [
  {
   "cell_type": "code",
   "execution_count": 1,
   "metadata": {
    "collapsed": true,
    "pycharm": {
     "is_executing": false
    }
   },
   "outputs": [
    {
     "name": "stderr",
     "text": [
      "Using TensorFlow backend.\n"
     ],
     "output_type": "stream"
    }
   ],
   "source": [
    "import os\n",
    "import shutil\n",
    "import numpy as np\n",
    "import pandas as pd\n",
    "from pandas import ExcelWriter\n",
    "from allensdk.brain_observatory.ecephys.ecephys_session import EcephysSession\n",
    "from allensdk.brain_observatory.ecephys.ecephys_project_cache import EcephysProjectCache\n",
    "from keras.layers import Dense, Dropout, LSTM, BatchNormalization, Flatten, TimeDistributed\n",
    "from keras.models import Sequential\n",
    "from keras.utils import to_categorical\n",
    "import tensorflow as tf\n",
    "from keras.optimizers import Adam\n",
    "import decoding_functions"
   ]
  },
  {
   "cell_type": "code",
   "execution_count": 2,
   "outputs": [],
   "source": [
    "data_dir = 'ecephys_cache_dir'\n",
    "manifest_path = os.path.join(data_dir, 'manifest.json')\n",
    "cache = EcephysProjectCache.from_warehouse(manifest = manifest_path)\n",
    "session_table = cache.get_session_table()"
   ],
   "metadata": {
    "collapsed": false,
    "pycharm": {
     "name": "#%%\n",
     "is_executing": false
    }
   }
  },
  {
   "cell_type": "code",
   "execution_count": 8,
   "outputs": [],
   "source": [
    "all_sessions = [719161530]\n",
    "session_id = all_sessions[0]\n",
    "session = cache.get_session_data(session_id)"
   ],
   "metadata": {
    "collapsed": false,
    "pycharm": {
     "name": "#%%\n",
     "is_executing": false
    }
   }
  },
  {
   "cell_type": "code",
   "execution_count": 9,
   "outputs": [
    {
     "name": "stdout",
     "text": [
      "[0.    0.025 0.05  0.075 0.1   0.125 0.15  0.175 0.2   0.225 0.25 ]\n"
     ],
     "output_type": "stream"
    }
   ],
   "source": [
    "## Copied over from decodeAlien.py\n",
    "scene_presentations = decoding_functions.fetch_scenes(session)\n",
    "areas = ['VISp']\n",
    "units = decoding_functions.fetch_units(session,areas)\n",
    "\n",
    "# Bin duration in ms as input, leave the rest alone (will calculate value in seconds and pass to appropriate functions\n",
    "bin_duration_in_msec = 25\n",
    "\n",
    "X_hold, X = decoding_functions.fetch_x(scene_presentations,units,session,bin_duration_in_seconds=bin_duration_in_msec/1000)\n",
    "Y = scene_presentations.loc[X_hold.stimulus_presentation_id.values, 'frame']\n",
    "\n",
    "X_train, X_test, X_valid, Y_train, Y_test, Y_valid = decoding_functions.prepare_data(X, Y)"
   ],
   "metadata": {
    "collapsed": false,
    "pycharm": {
     "name": "#%%\n",
     "is_executing": false
    }
   }
  },
  {
   "cell_type": "code",
   "execution_count": 56,
   "outputs": [
    {
     "data": {
      "text/plain": "0.7691326530612245"
     },
     "metadata": {},
     "output_type": "execute_result",
     "execution_count": 56
    }
   ],
   "source": [
    "from sklearn import svm\n",
    "import pandas as pd\n",
    "\n",
    "## Setup SVM\n",
    "## reshape X_train to fit into 2D-requiring SVM\n",
    "tx = int(0.7*len(X))\n",
    "Y_adj = Y[:tx]\n",
    "Y_valid_adj = Y[(int(0.85*len(Y))):]\n",
    "Y_test_adj = Y[int(0.7*len(Y)):(int(0.85*len(Y)))]\n",
    "Y_adju = Y_adj.astype('int')\n",
    "Y_test_adj2 = Y_test_adj.astype('int')\n",
    "X_train_re = np.reshape(X_train, (3656, 10*308))\n",
    "X_test_re = np.reshape(X_test, (784, 10*308))\n",
    "X_val_re = np.reshape(X_valid, (784, 10*308))\n",
    "\n",
    "clf = svm.SVC(kernel='linear')\n",
    "clf.fit(X_train_re, Y_adju)\n",
    "y_pred = clf.predict(X_test_re)\n",
    "#clf.score(X_val_re, Y_valid_adj)\n",
    "clf.score(X_test_re,Y_test_adj2)"
   ],
   "metadata": {
    "collapsed": false,
    "pycharm": {
     "name": "#%%\n",
     "is_executing": false
    }
   }
  },
  {
   "cell_type": "code",
   "execution_count": 24,
   "outputs": [
    {
     "data": {
      "text/plain": "stimulus_presentation_id\n51353      5\n51354    114\n51355     13\n51356     70\n51357     26\n        ... \n66654     22\n66655      7\n66656     80\n66657     20\n66658     53\nName: frame, Length: 3656, dtype: object"
     },
     "metadata": {},
     "output_type": "execute_result",
     "execution_count": 24
    }
   ],
   "source": [
    "X_train_re = np.reshape(X_train, (3656, 10*308))\n",
    "np.shape(X_train_re)\n",
    "Y[:tx]"
   ],
   "metadata": {
    "collapsed": false,
    "pycharm": {
     "name": "#%%\n",
     "is_executing": false
    }
   }
  },
  {
   "cell_type": "code",
   "execution_count": 34,
   "outputs": [
    {
     "data": {
      "text/plain": "array([950930145, 950930105, 950930276, 950933698, 950930237, 950930215,\n       950930358, 950930340, 950930437, 950930423, 950930407, 950930392,\n       950930375, 950930522, 950930454, 950933732, 950930866, 950930795,\n       950930888, 950931118, 950931004, 950930985, 950934181, 950930964,\n       950931043, 950931236, 950931181, 950931164, 950931272, 950931254,\n       950931423, 950931363, 950933840, 950931458, 950931315, 950931565,\n       950931533, 950931517, 950931656, 950931805, 950931617, 950931581,\n       950931770, 950931751, 950931727, 950931853, 950931959, 950931899,\n       950931878, 950933890, 950932102, 950932087, 950933907, 950932032,\n       950933924, 950932445, 950932578, 950932563, 950932696, 950933960,\n       950911006, 950911040, 950911088, 950926709, 950926867, 950926928,\n       950926886, 950927046, 950927024, 950927002, 950926805, 950926787,\n       950927066, 950927341, 950927229, 950937068, 950937114, 950937333,\n       950952985, 950949089, 950949200, 950949118, 950953703, 950949248,\n       950949449, 950949428, 950932980, 950923011, 950923181, 950923049,\n       950923165, 950923121, 950923089, 950923236, 950923217, 950923254,\n       950923365, 950923348, 950923485, 950923464, 950923405, 950923606,\n       950923690, 950923669, 950923914, 950923754, 950923730, 950933012,\n       950923976, 950923897, 950923880, 950923958, 950923859, 950923939,\n       950924147, 950924107, 950924089, 950924072, 950924231, 950924212,\n       950924173, 950924372, 950924272, 950933040, 950924519, 950924500,\n       950924452, 950924434, 950924413, 950924598, 950924800, 950924753,\n       950924735, 950924693, 950924635, 950924883, 950933057, 950924899,\n       950924845, 950925057, 950925112, 950925092, 950925212, 950925149,\n       950925166, 950925132, 950925187, 950925267, 950925368, 950925455,\n       950925332, 950925438, 950925400, 950925383, 950925555, 950925508,\n       950925664, 950925644, 950925626, 950925749, 950925730, 950925707,\n       950934229, 950933173, 950925850, 950925786, 950926055, 950925950,\n       950925925, 950925902, 950926001, 950925983, 950925967, 950926095,\n       950933226, 950933208, 950926208, 950945295, 950945314, 950952719,\n       950945554, 950945518, 950945467, 950945625, 950945588, 950945572,\n       950952704, 950952734, 950945660, 950952748, 950945817, 950945783,\n       950945768, 950946068, 950946022, 950946003, 950945986, 950946192,\n       950946155, 950946228, 950946310, 950946176, 950946376, 950946343,\n       950946327, 950946437, 950946497, 950946673, 950946658, 950946641,\n       950946741, 950947224, 950947211, 950947140, 950952845, 950947271,\n       950947156, 950947533, 950947412, 950947368, 950947488, 950947555,\n       950947665, 950947647, 950947626], dtype=int64)"
     },
     "metadata": {},
     "output_type": "execute_result",
     "execution_count": 34
    }
   ],
   "source": [
    "## fetch units\n",
    "areas = ['VISp', 'DG', 'LP']\n",
    "units2new = session.units[session.units['ecephys_structure_acronym'] ==areas[0]]\n",
    "for sp_area in range(len(areas[1:])):\n",
    "\n",
    "    units2 = [session.units[session.units['ecephys_structure_acronym'] == areas[sp_area+1]]]\n",
    "              \n",
    "    # units2new = units2new.append(units2)\n",
    "    units2new = units2new.append(units2)\n",
    "    continue\n",
    "units2new.index.values[:]"
   ],
   "metadata": {
    "collapsed": false,
    "pycharm": {
     "name": "#%%\n",
     "is_executing": false
    }
   }
  },
  {
   "cell_type": "code",
   "execution_count": 35,
   "outputs": [
    {
     "data": {
      "text/plain": "array([950930145, 950930105, 950930276, 950933698, 950930237, 950930215,\n       950930358, 950930340, 950930437, 950930423, 950930407, 950930392,\n       950930375, 950930522, 950930454, 950933732, 950930866, 950930795,\n       950930888, 950931118, 950931004, 950930985, 950934181, 950930964,\n       950931043, 950931236, 950931181, 950931164, 950931272, 950931254,\n       950931423, 950931363, 950933840, 950931458, 950931315, 950931565,\n       950931533, 950931517, 950931656, 950931805, 950931617, 950931581,\n       950931770, 950931751, 950931727, 950931853, 950931959, 950931899,\n       950931878, 950933890, 950932102, 950932087, 950933907, 950932032,\n       950933924, 950932445, 950932578, 950932563, 950932696, 950933960,\n       950911006, 950911040, 950911088, 950926709, 950926867, 950926928,\n       950926886, 950927046, 950927024, 950927002, 950926805, 950926787,\n       950927066, 950927341, 950927229, 950937068, 950937114, 950937333,\n       950952985, 950949089, 950949200, 950949118, 950953703, 950949248,\n       950949449, 950949428, 950932980, 950923011, 950923181, 950923049,\n       950923165, 950923121, 950923089, 950923236, 950923217, 950923254,\n       950923365, 950923348, 950923485, 950923464, 950923405, 950923606,\n       950923690, 950923669, 950923914, 950923754, 950923730, 950933012,\n       950923976, 950923897, 950923880, 950923958, 950923859, 950923939,\n       950924147, 950924107, 950924089, 950924072, 950924231, 950924212,\n       950924173, 950924372, 950924272, 950933040, 950924519, 950924500,\n       950924452, 950924434, 950924413, 950924598, 950924800, 950924753,\n       950924735, 950924693, 950924635, 950924883, 950933057, 950924899,\n       950924845, 950925057, 950925112, 950925092, 950925212, 950925149,\n       950925166, 950925132, 950925187, 950925267, 950925368, 950925455,\n       950925332, 950925438, 950925400, 950925383, 950925555, 950925508,\n       950925664, 950925644, 950925626, 950925749, 950925730, 950925707,\n       950934229, 950933173, 950925850, 950925786, 950926055, 950925950,\n       950925925, 950925902, 950926001, 950925983, 950925967, 950926095,\n       950933226, 950933208, 950926208, 950945295, 950945314, 950952719,\n       950945554, 950945518, 950945467, 950945625, 950945588, 950945572,\n       950952704, 950952734, 950945660, 950952748, 950945817, 950945783,\n       950945768, 950946068, 950946022, 950946003, 950945986, 950946192,\n       950946155, 950946228, 950946310, 950946176, 950946376, 950946343,\n       950946327, 950946437, 950946497, 950946673, 950946658, 950946641,\n       950946741, 950947224, 950947211, 950947140, 950952845, 950947271,\n       950947156, 950947533, 950947412, 950947368, 950947488, 950947555,\n       950947665, 950947647, 950947626], dtype=int64)"
     },
     "metadata": {},
     "output_type": "execute_result",
     "execution_count": 35
    }
   ],
   "source": [
    "units = pd.concat([session.units[session.units['ecephys_structure_acronym'] == 'VISp'],\n",
    "                       session.units[session.units['ecephys_structure_acronym'] == 'DG'],\n",
    "                       session.units[session.units['ecephys_structure_acronym'] == 'LP']])\n",
    "units.index.values"
   ],
   "metadata": {
    "collapsed": false,
    "pycharm": {
     "name": "#%%\n",
     "is_executing": false
    }
   }
  },
  {
   "cell_type": "code",
   "execution_count": 27,
   "outputs": [
    {
     "traceback": [
      "\u001b[1;31m---------------------------------------------------------------------------\u001b[0m",
      "\u001b[1;31mIndexError\u001b[0m                                Traceback (most recent call last)",
      "\u001b[1;32m<ipython-input-27-8980d05023a1>\u001b[0m in \u001b[0;36m<module>\u001b[1;34m\u001b[0m\n\u001b[0;32m      4\u001b[0m \u001b[1;32mfor\u001b[0m \u001b[0msp_area\u001b[0m \u001b[1;32min\u001b[0m \u001b[0mrange\u001b[0m\u001b[1;33m(\u001b[0m\u001b[0mlen\u001b[0m\u001b[1;33m(\u001b[0m\u001b[0mareas\u001b[0m\u001b[1;33m)\u001b[0m\u001b[1;33m)\u001b[0m\u001b[1;33m:\u001b[0m\u001b[1;33m\u001b[0m\u001b[1;33m\u001b[0m\u001b[0m\n\u001b[0;32m      5\u001b[0m \u001b[1;33m\u001b[0m\u001b[0m\n\u001b[1;32m----> 6\u001b[1;33m     \u001b[0munits2\u001b[0m\u001b[1;33m[\u001b[0m\u001b[0msp_area\u001b[0m\u001b[1;33m]\u001b[0m \u001b[1;33m=\u001b[0m \u001b[1;33m[\u001b[0m\u001b[0msession\u001b[0m\u001b[1;33m.\u001b[0m\u001b[0munits\u001b[0m\u001b[1;33m[\u001b[0m\u001b[0msession\u001b[0m\u001b[1;33m.\u001b[0m\u001b[0munits\u001b[0m\u001b[1;33m[\u001b[0m\u001b[1;34m'ecephys_structure_acronym'\u001b[0m\u001b[1;33m]\u001b[0m \u001b[1;33m==\u001b[0m \u001b[0mareas\u001b[0m\u001b[1;33m[\u001b[0m\u001b[0msp_area\u001b[0m\u001b[1;33m]\u001b[0m\u001b[1;33m]\u001b[0m\u001b[1;33m]\u001b[0m\u001b[1;33m\u001b[0m\u001b[1;33m\u001b[0m\u001b[0m\n\u001b[0m\u001b[0;32m      7\u001b[0m \u001b[1;33m\u001b[0m\u001b[0m\n\u001b[0;32m      8\u001b[0m     \u001b[1;31m# units2new = units2new.append(units2)\u001b[0m\u001b[1;33m\u001b[0m\u001b[1;33m\u001b[0m\u001b[1;33m\u001b[0m\u001b[0m\n",
      "\u001b[1;31mIndexError\u001b[0m: list assignment index out of range"
     ],
     "ename": "IndexError",
     "evalue": "list assignment index out of range",
     "output_type": "error"
    }
   ],
   "source": [
    "areas = ['VISp', 'DG', 'LP']\n",
    "units2new = session.units[session.units['ecephys_structure_acronym'] ==areas[0]]\n",
    "units2=[]\n",
    "for sp_area in range(len(areas)):\n",
    "\n",
    "    units2[sp_area] = [session.units[session.units['ecephys_structure_acronym'] == areas[sp_area]]]\n",
    "              \n",
    "    # units2new = units2new.append(units2)\n",
    "    #units2new = pd.concat(units2new, units2)\n",
    "    continue\n",
    "units2"
   ],
   "metadata": {
    "collapsed": false,
    "pycharm": {
     "name": "#%%\n",
     "is_executing": false
    }
   }
  },
  {
   "cell_type": "code",
   "execution_count": null,
   "outputs": [],
   "source": [
    "session2=cache.get_session_data(791319847)\n",
    "session2.structurewise_unit_counts"
   ],
   "metadata": {
    "collapsed": false,
    "pycharm": {
     "name": "#%%\n",
     "is_executing": false
    }
   }
  },
  {
   "cell_type": "code",
   "execution_count": null,
   "outputs": [],
   "source": [
    "session2=cache.get_session_data(791319847)\n",
    "session2.structurewise_unit_counts"
   ],
   "metadata": {
    "collapsed": false,
    "pycharm": {
     "name": "#%%\n",
     "is_executing": false
    }
   }
  },
  {
   "cell_type": "code",
   "execution_count": 77,
   "outputs": [
    {
     "data": {
      "text/plain": "(3656, 3080)"
     },
     "metadata": {},
     "output_type": "execute_result",
     "execution_count": 77
    }
   ],
   "source": [
    "train_test_svm = int(0.7*len(X))\n",
    "yyz = np.reshape(X[:train_test_svm], (np.shape(X[:train_test_svm])[0], ((np.shape(X[:train_test_svm])[1])*(np.shape(X[:train_test_svm])[2]))))\n",
    "#np.shape(X)\n",
    "np.shape(yyz)"
   ],
   "metadata": {
    "collapsed": false,
    "pycharm": {
     "name": "#%%\n",
     "is_executing": false
    }
   }
  },
  {
   "cell_type": "code",
   "execution_count": 78,
   "outputs": [
    {
     "traceback": [
      "\u001b[1;31m---------------------------------------------------------------------------\u001b[0m",
      "\u001b[1;31mValueError\u001b[0m                                Traceback (most recent call last)",
      "\u001b[1;32m<ipython-input-78-34bfe540c725>\u001b[0m in \u001b[0;36m<module>\u001b[1;34m\u001b[0m\n\u001b[1;32m----> 1\u001b[1;33m \u001b[0mpd\u001b[0m\u001b[1;33m.\u001b[0m\u001b[0mDataFrame\u001b[0m\u001b[1;33m(\u001b[0m\u001b[0mclf\u001b[0m\u001b[1;33m.\u001b[0m\u001b[0mscore\u001b[0m\u001b[1;33m(\u001b[0m\u001b[0mX_test_re\u001b[0m\u001b[1;33m,\u001b[0m\u001b[0mY_test_adj2\u001b[0m\u001b[1;33m)\u001b[0m\u001b[1;33m)\u001b[0m\u001b[1;33m\u001b[0m\u001b[1;33m\u001b[0m\u001b[0m\n\u001b[0m",
      "\u001b[1;32mc:\\users\\bioel\\anaconda3\\envs\\untitled4\\lib\\site-packages\\pandas\\core\\frame.py\u001b[0m in \u001b[0;36m__init__\u001b[1;34m(self, data, index, columns, dtype, copy)\u001b[0m\n\u001b[0;32m    483\u001b[0m                 )\n\u001b[0;32m    484\u001b[0m             \u001b[1;32melse\u001b[0m\u001b[1;33m:\u001b[0m\u001b[1;33m\u001b[0m\u001b[1;33m\u001b[0m\u001b[0m\n\u001b[1;32m--> 485\u001b[1;33m                 \u001b[1;32mraise\u001b[0m \u001b[0mValueError\u001b[0m\u001b[1;33m(\u001b[0m\u001b[1;34m\"DataFrame constructor not properly called!\"\u001b[0m\u001b[1;33m)\u001b[0m\u001b[1;33m\u001b[0m\u001b[1;33m\u001b[0m\u001b[0m\n\u001b[0m\u001b[0;32m    486\u001b[0m \u001b[1;33m\u001b[0m\u001b[0m\n\u001b[0;32m    487\u001b[0m         \u001b[0mNDFrame\u001b[0m\u001b[1;33m.\u001b[0m\u001b[0m__init__\u001b[0m\u001b[1;33m(\u001b[0m\u001b[0mself\u001b[0m\u001b[1;33m,\u001b[0m \u001b[0mmgr\u001b[0m\u001b[1;33m,\u001b[0m \u001b[0mfastpath\u001b[0m\u001b[1;33m=\u001b[0m\u001b[1;32mTrue\u001b[0m\u001b[1;33m)\u001b[0m\u001b[1;33m\u001b[0m\u001b[1;33m\u001b[0m\u001b[0m\n",
      "\u001b[1;31mValueError\u001b[0m: DataFrame constructor not properly called!"
     ],
     "ename": "ValueError",
     "evalue": "DataFrame constructor not properly called!",
     "output_type": "error"
    }
   ],
   "source": [
    "\n",
    "pd.DataFrame(clf.score(X_test_re,Y_test_adj2))"
   ],
   "metadata": {
    "collapsed": false,
    "pycharm": {
     "name": "#%%\n",
     "is_executing": false
    }
   }
  },
  {
   "cell_type": "code",
   "execution_count": 13,
   "outputs": [
    {
     "data": {
      "text/plain": "(5950, 119)"
     },
     "metadata": {},
     "output_type": "execute_result",
     "execution_count": 13
    }
   ],
   "source": [
    "Y_cat = to_categorical(Y, num_classes=119)\n",
    "np.shape(Y_cat)"
   ],
   "metadata": {
    "collapsed": false,
    "pycharm": {
     "name": "#%%\n",
     "is_executing": false
    }
   }
  },
  {
   "cell_type": "code",
   "execution_count": 15,
   "outputs": [
    {
     "data": {
      "text/plain": "Int64Index([791319847, 797828357, 798911424, 799864342], dtype='int64', name='id')"
     },
     "metadata": {},
     "output_type": "execute_result",
     "execution_count": 15
    }
   ],
   "source": [
    "all_sessions = session_table.loc[session_table.session_type == 'brain_observatory_1.1'].index\n",
    "all_sessions[-4:]\n"
   ],
   "metadata": {
    "collapsed": false,
    "pycharm": {
     "name": "#%%\n",
     "is_executing": false
    }
   }
  }
 ],
 "metadata": {
  "kernelspec": {
   "display_name": "Python 3",
   "language": "python",
   "name": "python3"
  },
  "language_info": {
   "codemirror_mode": {
    "name": "ipython",
    "version": 2
   },
   "file_extension": ".py",
   "mimetype": "text/x-python",
   "name": "python",
   "nbconvert_exporter": "python",
   "pygments_lexer": "ipython2",
   "version": "2.7.6"
  },
  "pycharm": {
   "stem_cell": {
    "cell_type": "raw",
    "source": [],
    "metadata": {
     "collapsed": false
    }
   }
  }
 },
 "nbformat": 4,
 "nbformat_minor": 0
}